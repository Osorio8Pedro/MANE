{
  "cells": [
    {
      "cell_type": "markdown",
      "metadata": {
        "id": "QdQAFq5Qe5SZ"
      },
      "source": []
    },
    {
      "cell_type": "markdown",
      "metadata": {
        "id": "Krqf1n6-uIn7"
      },
      "source": [
        "\n",
        "## 1. Esquema\n",
        "\n",
        "Para esta actividad vamos a trabajar con datos de una empresa que vende productos a través de varias tiendas. Trabajaremos con el siguiente esquema:\n",
        "\n",
        "- Tiendas(tid PRIMARY KEY, capacidad, minpersonal)\n",
        "- Productos(pid PRIMARY KEY, nombre, precio, tipo)\n",
        "- Vende(tid,pid) PRIMARY KEY(tid,pid)\n",
        "- Usuarios(uid PRIMARY KEY, nombre, calle, comuna, region)\n",
        "- Compras(cid PRIMARY KEY, uid, tid)\n",
        "- Contenido_Compra(cid,pid,cantidad) PRIMARY KEY (cid,pid)\n",
        "\n",
        "En este esquema, la tabla 'Tiendas' tiene información sobre cada tienda de la empresa. La información que guardaremos sobre cada tienda es su id único, la capacidad de personas que pueden ingresar a la tienda, y la cantidad mínima del personal requerido para el funcionamiento de la tienda. El repositorio (único) de productos se guarda en la tabla 'Productos', donde cada producto se describe a través de su id, nombre, su precio y tipo. Para registrar que una tienda en particular vende un producto, se ocupa la tabla 'Vende', vinculando la tienda con el producto. Por otro lado, la tabla 'Usuarios' tiene un registro de los usuarios de la empresa, respaldando la información con su nombre y dirección.\n",
        "\n",
        "Para registrar las compras que los usuarios realizan de una tienda específica, se tienen dos tablas. La primera, llamada 'Compras' establece una compra de un usuario en una tienda, y la tabla 'Contenido_Compra' guarda la información sobre los productos comprados en cada compra individual. También se guarda la información sobre la cantidad de unidades de cada producto comprado para poder modelar que un usuario compra varias unidades del mismo producto en una compra."
      ]
    },
    {
      "cell_type": "markdown",
      "metadata": {
        "id": "Ol5ubZWigk4T"
      },
      "source": [
        "## 2. Datos\n",
        "\n",
        "Aquí crearemos una instancia del esquema de arriba e insertaremos algunos datos a la instancia.\n",
        "\n",
        "La idea es que cada tabla debería tener al menos una fila y cada consulta de abajo debería devolver al menos una respuesta con los datos especificados."
      ]
    },
    {
      "cell_type": "code",
      "execution_count": 1,
      "metadata": {
        "colab": {
          "base_uri": "https://localhost:8080/"
        },
        "id": "iTcPwHyig6sm",
        "outputId": "dee14926-3a27-4f95-8ba7-d30668042024"
      },
      "outputs": [
        {
          "name": "stdout",
          "output_type": "stream",
          "text": [
            "\u001b[33m\r0% [Working]\u001b[0m\r            \rHit:1 http://archive.ubuntu.com/ubuntu focal InRelease\n",
            "\u001b[33m\r0% [Waiting for headers] [Connected to cloud.r-project.org (18.67.65.79)] [Conn\u001b[0m\r                                                                               \rGet:2 http://archive.ubuntu.com/ubuntu focal-updates InRelease [114 kB]\n",
            "\r                                                                               \rGet:3 http://security.ubuntu.com/ubuntu focal-security InRelease [114 kB]\n",
            "\r                                                                               \rGet:4 https://cloud.r-project.org/bin/linux/ubuntu focal-cran40/ InRelease [3,622 B]\n",
            "\u001b[33m\r0% [Waiting for headers] [Connecting to ppa.launchpad.net (185.125.190.52)] [Wa\u001b[0m\r                                                                               \rGet:5 http://archive.ubuntu.com/ubuntu focal-backports InRelease [108 kB]\n",
            "Hit:6 https://developer.download.nvidia.com/compute/cuda/repos/ubuntu2004/x86_64  InRelease\n",
            "Hit:7 http://ppa.launchpad.net/c2d4u.team/c2d4u4.0+/ubuntu focal InRelease\n",
            "Hit:8 http://ppa.launchpad.net/cran/libgit2/ubuntu focal InRelease\n",
            "Get:9 http://ppa.launchpad.net/deadsnakes/ppa/ubuntu focal InRelease [18.1 kB]\n",
            "Get:10 http://archive.ubuntu.com/ubuntu focal-updates/universe amd64 Packages [1,324 kB]\n",
            "Get:11 http://ppa.launchpad.net/graphics-drivers/ppa/ubuntu focal InRelease [24.3 kB]\n",
            "Get:12 http://archive.ubuntu.com/ubuntu focal-updates/main amd64 Packages [3,069 kB]\n",
            "Hit:13 http://ppa.launchpad.net/ubuntugis/ppa/ubuntu focal InRelease\n",
            "Get:14 http://security.ubuntu.com/ubuntu focal-security/main amd64 Packages [2,590 kB]\n",
            "Get:15 http://security.ubuntu.com/ubuntu focal-security/universe amd64 Packages [1,028 kB]\n",
            "Get:16 http://ppa.launchpad.net/deadsnakes/ppa/ubuntu focal/main amd64 Packages [30.1 kB]\n",
            "Get:17 http://ppa.launchpad.net/graphics-drivers/ppa/ubuntu focal/main amd64 Packages [42.0 kB]\n",
            "Fetched 8,465 kB in 3s (2,545 kB/s)\n",
            "Reading package lists... Done\n",
            "Building dependency tree       \n",
            "Reading state information... Done\n",
            "28 packages can be upgraded. Run 'apt list --upgradable' to see them.\n",
            " * Starting PostgreSQL 12 database server\n",
            "   ...done.\n",
            "CREATE ROLE\n"
          ]
        }
      ],
      "source": [
        "# install\n",
        "!apt update\n",
        "!apt install postgresql postgresql-contrib &>log\n",
        "!service postgresql start\n",
        "!sudo -u postgres psql -c \"CREATE USER root WITH SUPERUSER\"\n",
        "# set connection\n",
        "%load_ext sql\n",
        "%config SqlMagic.feedback=False \n",
        "%config SqlMagic.autopandas=True\n",
        "%sql postgresql+psycopg2://@/postgres"
      ]
    },
    {
      "cell_type": "code",
      "execution_count": 2,
      "metadata": {
        "colab": {
          "base_uri": "https://localhost:8080/",
          "height": 67
        },
        "id": "QpgyJVP5yoGj",
        "outputId": "ccb29dad-dd1f-45a3-c21d-b61eb6c3bbe9"
      },
      "outputs": [
        {
          "name": "stdout",
          "output_type": "stream",
          "text": [
            " * postgresql+psycopg2://@/postgres\n"
          ]
        },
        {
          "data": {
            "text/html": [
              "\n",
              "  <div id=\"df-5d1a6b04-3bf7-4d4e-a0b9-3026def0d9bb\">\n",
              "    <div class=\"colab-df-container\">\n",
              "      <div>\n",
              "<style scoped>\n",
              "    .dataframe tbody tr th:only-of-type {\n",
              "        vertical-align: middle;\n",
              "    }\n",
              "\n",
              "    .dataframe tbody tr th {\n",
              "        vertical-align: top;\n",
              "    }\n",
              "\n",
              "    .dataframe thead th {\n",
              "        text-align: right;\n",
              "    }\n",
              "</style>\n",
              "<table border=\"1\" class=\"dataframe\">\n",
              "  <thead>\n",
              "    <tr style=\"text-align: right;\">\n",
              "      <th></th>\n",
              "    </tr>\n",
              "  </thead>\n",
              "  <tbody>\n",
              "  </tbody>\n",
              "</table>\n",
              "</div>\n",
              "      <button class=\"colab-df-convert\" onclick=\"convertToInteractive('df-5d1a6b04-3bf7-4d4e-a0b9-3026def0d9bb')\"\n",
              "              title=\"Convert this dataframe to an interactive table.\"\n",
              "              style=\"display:none;\">\n",
              "        \n",
              "  <svg xmlns=\"http://www.w3.org/2000/svg\" height=\"24px\"viewBox=\"0 0 24 24\"\n",
              "       width=\"24px\">\n",
              "    <path d=\"M0 0h24v24H0V0z\" fill=\"none\"/>\n",
              "    <path d=\"M18.56 5.44l.94 2.06.94-2.06 2.06-.94-2.06-.94-.94-2.06-.94 2.06-2.06.94zm-11 1L8.5 8.5l.94-2.06 2.06-.94-2.06-.94L8.5 2.5l-.94 2.06-2.06.94zm10 10l.94 2.06.94-2.06 2.06-.94-2.06-.94-.94-2.06-.94 2.06-2.06.94z\"/><path d=\"M17.41 7.96l-1.37-1.37c-.4-.4-.92-.59-1.43-.59-.52 0-1.04.2-1.43.59L10.3 9.45l-7.72 7.72c-.78.78-.78 2.05 0 2.83L4 21.41c.39.39.9.59 1.41.59.51 0 1.02-.2 1.41-.59l7.78-7.78 2.81-2.81c.8-.78.8-2.07 0-2.86zM5.41 20L4 18.59l7.72-7.72 1.47 1.35L5.41 20z\"/>\n",
              "  </svg>\n",
              "      </button>\n",
              "      \n",
              "  <style>\n",
              "    .colab-df-container {\n",
              "      display:flex;\n",
              "      flex-wrap:wrap;\n",
              "      gap: 12px;\n",
              "    }\n",
              "\n",
              "    .colab-df-convert {\n",
              "      background-color: #E8F0FE;\n",
              "      border: none;\n",
              "      border-radius: 50%;\n",
              "      cursor: pointer;\n",
              "      display: none;\n",
              "      fill: #1967D2;\n",
              "      height: 32px;\n",
              "      padding: 0 0 0 0;\n",
              "      width: 32px;\n",
              "    }\n",
              "\n",
              "    .colab-df-convert:hover {\n",
              "      background-color: #E2EBFA;\n",
              "      box-shadow: 0px 1px 2px rgba(60, 64, 67, 0.3), 0px 1px 3px 1px rgba(60, 64, 67, 0.15);\n",
              "      fill: #174EA6;\n",
              "    }\n",
              "\n",
              "    [theme=dark] .colab-df-convert {\n",
              "      background-color: #3B4455;\n",
              "      fill: #D2E3FC;\n",
              "    }\n",
              "\n",
              "    [theme=dark] .colab-df-convert:hover {\n",
              "      background-color: #434B5C;\n",
              "      box-shadow: 0px 1px 3px 1px rgba(0, 0, 0, 0.15);\n",
              "      filter: drop-shadow(0px 1px 2px rgba(0, 0, 0, 0.3));\n",
              "      fill: #FFFFFF;\n",
              "    }\n",
              "  </style>\n",
              "\n",
              "      <script>\n",
              "        const buttonEl =\n",
              "          document.querySelector('#df-5d1a6b04-3bf7-4d4e-a0b9-3026def0d9bb button.colab-df-convert');\n",
              "        buttonEl.style.display =\n",
              "          google.colab.kernel.accessAllowed ? 'block' : 'none';\n",
              "\n",
              "        async function convertToInteractive(key) {\n",
              "          const element = document.querySelector('#df-5d1a6b04-3bf7-4d4e-a0b9-3026def0d9bb');\n",
              "          const dataTable =\n",
              "            await google.colab.kernel.invokeFunction('convertToInteractive',\n",
              "                                                     [key], {});\n",
              "          if (!dataTable) return;\n",
              "\n",
              "          const docLinkHtml = 'Like what you see? Visit the ' +\n",
              "            '<a target=\"_blank\" href=https://colab.research.google.com/notebooks/data_table.ipynb>data table notebook</a>'\n",
              "            + ' to learn more about interactive tables.';\n",
              "          element.innerHTML = '';\n",
              "          dataTable['output_type'] = 'display_data';\n",
              "          await google.colab.output.renderOutput(dataTable, element);\n",
              "          const docLink = document.createElement('div');\n",
              "          docLink.innerHTML = docLinkHtml;\n",
              "          element.appendChild(docLink);\n",
              "        }\n",
              "      </script>\n",
              "    </div>\n",
              "  </div>\n",
              "  "
            ],
            "text/plain": [
              "Empty DataFrame\n",
              "Columns: []\n",
              "Index: []"
            ]
          },
          "execution_count": 2,
          "metadata": {},
          "output_type": "execute_result"
        }
      ],
      "source": [
        "%%sql\n",
        "DROP TABLE IF EXISTS Tiendas;\n",
        "CREATE TABLE Tiendas(tid INT PRIMARY KEY, capacidad INT, minpersonal INT);\n",
        "INSERT INTO Tiendas VALUES(1, 100, 10);\n",
        "INSERT INTO Tiendas VALUES(2, 150, 15);\n",
        "INSERT INTO Tiendas VALUES(3, 50, 5);\n",
        "\n",
        "DROP TABLE IF EXISTS Productos;\n",
        "CREATE TABLE Productos(pid INT PRIMARY KEY, nombre VARCHAR(200), precio FLOAT, tipo VARCHAR(100));\n",
        "INSERT INTO Productos VALUES(100, 'Polera BTS', 40, 'Ropa');\n",
        "INSERT INTO Productos VALUES(200, 'Polera Bad Bunny', 20, 'Ropa');\n",
        "INSERT INTO Productos VALUES(300, 'Refrigerador', 1000, 'Electro');\n",
        "INSERT INTO Productos VALUES(400, 'Mancuerna 10kgs', 80, 'Deporte');\n",
        "INSERT INTO Productos VALUES(500, 'Banda elástica', 10, 'Deporte');\n",
        "INSERT INTO Productos VALUES(600, 'Pelota Futbol', 200, 'Deporte');\n",
        "INSERT INTO Productos VALUES(700, 'Cafetera', 100, 'Electro');\n",
        "INSERT INTO Productos VALUES(800, 'Monitor', 200, 'Tecnología');\n",
        "INSERT INTO Productos VALUES(900, 'Notebook', 1200, 'Tecnología');\n",
        "INSERT INTO Productos VALUES(1000, 'Lomo kg', 10, 'Carne');\n",
        "\n",
        "DROP TABLE IF EXISTS Vende;\n",
        "CREATE TABLE Vende(tid INT, pid INT, PRIMARY KEY(tid, pid));\n",
        "INSERT INTO Vende VALUES(1, 100);\n",
        "INSERT INTO Vende VALUES(1, 200);\n",
        "INSERT INTO Vende VALUES(1, 300);\n",
        "INSERT INTO Vende VALUES(1, 400);\n",
        "INSERT INTO Vende VALUES(1, 500);\n",
        "INSERT INTO Vende VALUES(1, 600);\n",
        "INSERT INTO Vende VALUES(1, 700);\n",
        "INSERT INTO Vende VALUES(1, 800);\n",
        "INSERT INTO Vende VALUES(1, 900);\n",
        "INSERT INTO Vende VALUES(2, 100);\n",
        "INSERT INTO Vende VALUES(2, 200);\n",
        "INSERT INTO Vende VALUES(2, 300);\n",
        "INSERT INTO Vende VALUES(2, 700);\n",
        "INSERT INTO Vende VALUES(3, 100);\n",
        "INSERT INTO Vende VALUES(3, 200);\n",
        "INSERT INTO Vende VALUES(3, 300);\n",
        "INSERT INTO Vende VALUES(3, 400);\n",
        "INSERT INTO Vende VALUES(3, 500);\n",
        "INSERT INTO Vende VALUES(3, 700);\n",
        "INSERT INTO Vende VALUES(3, 800);\n",
        "INSERT INTO Vende VALUES(3, 900);\n",
        "INSERT INTO Vende VALUES(1, 1000);\n",
        "\n",
        "DROP TABLE IF EXISTS Usuarios;\n",
        "CREATE TABLE Usuarios(uid INT PRIMARY KEY, nombre VARCHAR(200), calle VARCHAR(200), comuna VARCHAR(100), region VARCHAR(200));\n",
        "INSERT INTO Usuarios VALUES(1, 'Valentina', 'Calle 123', 'Conchalí', 'RM');\n",
        "INSERT INTO Usuarios VALUES(2, 'Adrián', 'Dirección 145', 'Maipú', 'RM');\n",
        "INSERT INTO Usuarios VALUES(5, 'Lomos', 'Dirección 90', 'Maipú', 'RM');\n",
        "INSERT INTO Usuarios VALUES(3, 'Conito', 'Otra Calle 78', 'Viña del mar', 'Valparaíso');\n",
        "INSERT INTO Usuarios VALUES(4, 'Frambuesa', 'Más direcciones 90', 'Concón', 'Valparaíso');\n",
        "\n",
        "DROP TABLE IF EXISTS Compras;\n",
        "CREATE TABLE Compras(cid INT PRIMARY KEY, uid INT, tid INT);\n",
        "INSERT INTO Compras VALUES(1, 1, 1);\n",
        "INSERT INTO Compras VALUES(101, 1, 1);\n",
        "INSERT INTO Compras VALUES(3, 1, 1);\n",
        "INSERT INTO Compras VALUES(4, 1, 2);\n",
        "INSERT INTO Compras VALUES(5, 1, 2);\n",
        "INSERT INTO Compras VALUES(6, 2, 1);\n",
        "INSERT INTO Compras VALUES(7, 2, 2);\n",
        "INSERT INTO Compras VALUES(8, 2, 3);\n",
        "INSERT INTO Compras VALUES(9, 3, 3);\n",
        "INSERT INTO Compras VALUES(10, 3, 3);\n",
        "INSERT INTO Compras VALUES(11, 3, 1);\n",
        "INSERT INTO Compras VALUES(12, 4, 1);\n",
        "\n",
        "DROP TABLE IF EXISTS Contenido_Compra;\n",
        "CREATE TABLE Contenido_Compra(cid INT, pid INT, cantidad INT, PRIMARY KEY(cid, pid));\n",
        "INSERT INTO Contenido_Compra VALUES(1, 100, 2);\n",
        "INSERT INTO Contenido_Compra VALUES(101, 800, 2);\n",
        "INSERT INTO Contenido_Compra VALUES(101, 900, 1);\n",
        "INSERT INTO Contenido_Compra VALUES(101, 100, 1);\n",
        "INSERT INTO Contenido_Compra VALUES(101, 1000, 3);\n",
        "INSERT INTO Contenido_Compra VALUES(3, 400, 2);\n",
        "INSERT INTO Contenido_Compra VALUES(4, 200, 3);\n",
        "INSERT INTO Contenido_Compra VALUES(5, 100, 1);\n",
        "INSERT INTO Contenido_Compra VALUES(6, 100, 3);\n",
        "INSERT INTO Contenido_Compra VALUES(6, 600, 1);\n",
        "INSERT INTO Contenido_Compra VALUES(7, 300, 1);\n",
        "INSERT INTO Contenido_Compra VALUES(7, 700, 1);\n",
        "INSERT INTO Contenido_Compra VALUES(8, 200, 4);\n",
        "INSERT INTO Contenido_Compra VALUES(8, 1000, 2);\n",
        "INSERT INTO Contenido_Compra VALUES(9, 100, 2);\n",
        "INSERT INTO Contenido_Compra VALUES(10, 100, 1);\n",
        "INSERT INTO Contenido_Compra VALUES(11, 200, 1);\n",
        "INSERT INTO Contenido_Compra VALUES(12, 500, 3);"
      ]
    },
    {
      "attachments": {},
      "cell_type": "markdown",
      "metadata": {
        "id": "HJ1sz1cdfPsu"
      },
      "source": [
        "## 3. Consultas\n",
        "\n",
        "Escriban las siguentes consultas SQL que funcionan sobre el esquema de arriba.\n"
      ]
    },
    {
      "cell_type": "markdown",
      "metadata": {
        "id": "EXxrXyc5fdI5"
      },
      "source": [
        "**1**. Liste los productos desde el más caro hasta el más barato:"
      ]
    },
    {
      "cell_type": "code",
      "execution_count": null,
      "metadata": {
        "id": "MId0N2zUfiEb"
      },
      "outputs": [],
      "source": [
        "%%sql\n",
        "SELECT *\n",
        "FROM Productos\n",
        "ORDER BY precio DESC;"
      ]
    },
    {
      "cell_type": "markdown",
      "metadata": {
        "id": "xu6hBwo2fisy"
      },
      "source": [
        "2. Máximo de los precios para cada tipo de producto. Las respuestas deberían listar pares [tipo, máximo(precio)]."
      ]
    },
    {
      "cell_type": "code",
      "execution_count": null,
      "metadata": {
        "id": "oDYkr0arftqK"
      },
      "outputs": [],
      "source": [
        "%%sql\n",
        "SELECT tipo, MAX(precio)\n",
        "from Productos\n",
        "GROUP BY tipo\n",
        "ORDER BY MAX(precio) DESC;"
      ]
    },
    {
      "cell_type": "markdown",
      "metadata": {
        "id": "ipn60AvGftip"
      },
      "source": [
        "3. Tienda con el número de clientes que realizaron compras en esta tienda. Ojo que hay que eliminar usuarios duplicados."
      ]
    },
    {
      "cell_type": "code",
      "execution_count": null,
      "metadata": {
        "id": "FUIZ-SR_fzWb"
      },
      "outputs": [],
      "source": [
        "%%sql\n",
        "SELECT tid, COUNT(DISTINCT uid)\n",
        "FROM Compras\n",
        "GROUP BY tid;"
      ]
    },
    {
      "cell_type": "markdown",
      "metadata": {
        "id": "bW65jwE_f1Es"
      },
      "source": [
        "4. Nombre del usuario, junto con el precio del producto más caro que\n",
        "compró. Si el usuario no realizó ninguna compra, no es necesario listarlo:"
      ]
    },
    {
      "cell_type": "code",
      "execution_count": null,
      "metadata": {
        "id": "GWkTKrfGf1QW"
      },
      "outputs": [],
      "source": [
        "%%sql\n",
        "SELECT Usuarios.nombre, MAX(productos.precio)\n",
        "FROM Usuarios, Compras, Contenido_Compra, Productos\n",
        "WHERE Usuarios.uid = Compras.uid AND Compras.cid = Contenido_Compra.cid AND Contenido_Compra.pid = Productos.pid\n",
        "GROUP BY Usuarios.nombre\n",
        "ORDER BY max DESC;"
      ]
    },
    {
      "cell_type": "markdown",
      "metadata": {
        "id": "kb9m82zff6Cn"
      },
      "source": [
        "5. Nombre de los usuarios que realizaron la compra con el mayor valor: "
      ]
    },
    {
      "cell_type": "code",
      "execution_count": null,
      "metadata": {
        "id": "GhUGvZW2f6M7"
      },
      "outputs": [],
      "source": [
        "%%sql\n",
        "SELECT compras.nombre as nombre_usuario\n",
        "FROM (\n",
        "  SELECT Usuarios.nombre, SUM(productos.precio*Contenido_Compra.cantidad) as suma\n",
        "  FROM Usuarios, Compras, Contenido_Compra, Productos\n",
        "  WHERE Usuarios.uid = Compras.uid AND Compras.cid = Contenido_Compra.cid AND Contenido_Compra.pid = Productos.pid\n",
        "  GROUP BY Usuarios.nombre, Compras.cid\n",
        "  ORDER BY sum DESC\n",
        "  LIMIT 1\n",
        ") as maximo_valor, (\n",
        "  SELECT Usuarios.nombre, SUM(productos.precio*Contenido_Compra.cantidad)\n",
        "  FROM Usuarios, Compras, Contenido_Compra, Productos\n",
        "  WHERE Usuarios.uid = Compras.uid AND Compras.cid = Contenido_Compra.cid AND Contenido_Compra.pid = Productos.pid\n",
        "  GROUP BY Usuarios.nombre, Compras.cid\n",
        ") as compras\n",
        "WHERE maximo_valor.suma = compras.sum;"
      ]
    },
    {
      "cell_type": "markdown",
      "metadata": {
        "id": "IB1_JgJCf-J3"
      },
      "source": [
        "6. Nombre (sin repeticiones) de todos los usuarios que compraron un producto de tipo 'Electro'"
      ]
    },
    {
      "cell_type": "code",
      "execution_count": null,
      "metadata": {
        "id": "yKk0GHrCf-Sz"
      },
      "outputs": [],
      "source": [
        "%%sql\n",
        "SELECT DISTINCT Usuarios.nombre\n",
        "FROM Usuarios, Compras, Contenido_Compra, Productos\n",
        "WHERE Usuarios.uid = Compras.uid AND Compras.cid = Contenido_Compra.cid AND Contenido_Compra.pid = Productos.pid AND Productos.tipo = 'Electro'\n",
        "GROUP BY Usuarios.nombre;"
      ]
    },
    {
      "cell_type": "markdown",
      "metadata": {
        "id": "tV-T3TD2gGzn"
      },
      "source": [
        "7. Nombre de los usuarios que compraron uno de los cinco productos más caros. Para sacar los cinco más caros, usar LIMIT:"
      ]
    },
    {
      "cell_type": "code",
      "execution_count": null,
      "metadata": {
        "id": "lIfDy8SVgG89"
      },
      "outputs": [],
      "source": [
        "%%sql\n",
        "SELECT DISTINCT Usuarios.nombre\n",
        "FROM Usuarios, Compras, Contenido_Compra, (\n",
        "  SELECT DISTINCT pid, precio\n",
        "  FROM Productos \n",
        "  ORDER BY Productos.precio DESC \n",
        "  LIMIT 5\n",
        ") as p1\n",
        "WHERE Usuarios.uid = Compras.uid AND Compras.cid = Contenido_Compra.cid AND Contenido_Compra.pid = p1.pid\n",
        "GROUP BY Usuarios.nombre;"
      ]
    },
    {
      "cell_type": "markdown",
      "metadata": {
        "id": "b6Rss9xogK7-"
      },
      "source": [
        "8. Id de cada tienda, junto con el promedio de los precios de todos los productos que vende esta tienda"
      ]
    },
    {
      "cell_type": "code",
      "execution_count": null,
      "metadata": {
        "id": "QN_OuKTIyoG2"
      },
      "outputs": [],
      "source": [
        "%%sql\n",
        "SELECT Tiendas.tid, AVG(Productos.precio)\n",
        "FROM Tiendas, Vende, Productos\n",
        "WHERE Tiendas.tid = Vende.tid AND Productos.pid = Vende.pid\n",
        "GROUP BY Tiendas.tid\n",
        "ORDER BY Tiendas.tid;"
      ]
    },
    {
      "cell_type": "markdown",
      "metadata": {
        "id": "Z3-1GyH7gOl9"
      },
      "source": [
        "9. Id de todas las compras en las cuales se compraron más de tres productos distintos (si el mismo producto fue comprado 3 veces o mas, esto no cuenta)"
      ]
    },
    {
      "cell_type": "code",
      "execution_count": null,
      "metadata": {
        "id": "6UxyG2fwgOvm"
      },
      "outputs": [],
      "source": [
        "%%sql\n",
        "SELECT cid\n",
        "FROM (\n",
        "  SELECT DISTINCT cid, COUNT(DISTINCT pid) as cantidad\n",
        "  FROM Contenido_Compra\n",
        "  GROUP BY cid\n",
        ") as c1\n",
        "WHERE cantidad > 3;"
      ]
    },
    {
      "cell_type": "markdown",
      "metadata": {
        "id": "OMt248I7gTU8"
      },
      "source": [
        "10. Para cada compra con **tres o más productos**, listar su id, el nombre del usuario, y el número de productos comprados en esta compra. Si un producto fue comprado dos o más veces, hay que contar esto:"
      ]
    },
    {
      "cell_type": "code",
      "execution_count": null,
      "metadata": {
        "id": "zJRNJxAipCgA"
      },
      "outputs": [],
      "source": [
        "%%sql\n",
        "SELECT c1.cid, Usuarios.nombre, c1.cantidad\n",
        "FROM (SELECT DISTINCT cid, SUM(cantidad) as cantidad\n",
        "  FROM Contenido_Compra\n",
        "  GROUP BY cid\n",
        ") as c1, Usuarios, Compras\n",
        "WHERE c1.cantidad >= 3 AND Compras.cid = c1.cid AND Compras.uid = Usuarios.uid\n",
        "ORDER BY c1.cantidad DESC;"
      ]
    },
    {
      "cell_type": "markdown",
      "metadata": {
        "id": "sPtJipaTgftA"
      },
      "source": [
        "11. Id de todas las tiendas que venden al menos un producto más caro que el producto más barato que existe en todos los productos:"
      ]
    },
    {
      "cell_type": "code",
      "execution_count": null,
      "metadata": {
        "id": "vXVDDEP1gf03"
      },
      "outputs": [],
      "source": [
        "%%sql\n",
        "SELECT DISTINCT Vende.tid\n",
        "FROM (\n",
        "  SELECT precio\n",
        "  FROM Productos\n",
        "  ORDER BY precio\n",
        "  LIMIT 1\n",
        ") as Mas_Barato, Vende, Productos\n",
        "WHERE Vende.pid = Productos.pid AND Productos.precio > Mas_Barato.precio;\n"
      ]
    },
    {
      "cell_type": "markdown",
      "metadata": {
        "id": "2jc-m4yGgCyW"
      },
      "source": [
        "12. Para cada región, listar el id de la tienda más preferida por los usuarios en esta región. Aquí se cuenta el número total de compras realizadas en la tienda, y no el número de usuarios que realizaron la compra. Si dos o mas tiendas empatadas para el primer lugar, listar todas."
      ]
    },
    {
      "cell_type": "code",
      "execution_count": null,
      "metadata": {
        "id": "M1Pm4BslgC7b"
      },
      "outputs": [],
      "source": [
        "%%sql\n",
        "SELECT f2.region, f2.tid\n",
        "FROM (\n",
        "  SELECT region, MAX(cantidad) as cantidad\n",
        "  FROM (\n",
        "    SELECT Usuarios.region, Num_compras.tid, SUM(Num_compras.cantidad) as cantidad\n",
        "    FROM (\n",
        "      SELECT uid, tid, COUNT(cid) as cantidad\n",
        "      FROM Compras \n",
        "      GROUP BY uid, tid\n",
        "      ORDER BY uid\n",
        "    ) as Num_Compras, Usuarios\n",
        "    WHERE Num_Compras.uid = Usuarios.uid \n",
        "    GROUP BY Usuarios.region, Num_compras.tid\n",
        "    ORDER BY Num_compras.tid\n",
        "  ) as f1\n",
        "  GROUP BY region\n",
        ") as max_region, (\n",
        "    SELECT Usuarios.region, Num_compras.tid, SUM(Num_compras.cantidad) as cantidad\n",
        "    FROM (\n",
        "      SELECT uid, tid, COUNT(cid) as cantidad\n",
        "      FROM Compras \n",
        "      GROUP BY uid, tid\n",
        "      ORDER BY uid\n",
        "    ) as Num_Compras, Usuarios\n",
        "    WHERE Num_Compras.uid = Usuarios.uid \n",
        "    GROUP BY Usuarios.region, Num_compras.tid\n",
        "    ORDER BY Num_compras.tid\n",
        "  ) as f2\n",
        "  WHERE max_region.cantidad = f2.cantidad AND max_region.region = f2.region"
      ]
    }
  ],
  "metadata": {
    "colab": {
      "collapsed_sections": [
        "Ol5ubZWigk4T"
      ],
      "provenance": []
    },
    "kernelspec": {
      "display_name": "Python 3",
      "language": "python",
      "name": "python3"
    },
    "language_info": {
      "codemirror_mode": {
        "name": "ipython",
        "version": 3
      },
      "file_extension": ".py",
      "mimetype": "text/x-python",
      "name": "python",
      "nbconvert_exporter": "python",
      "pygments_lexer": "ipython3",
      "version": "3.8.4"
    }
  },
  "nbformat": 4,
  "nbformat_minor": 0
}
